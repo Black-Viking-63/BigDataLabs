{
  "nbformat": 4,
  "nbformat_minor": 0,
  "metadata": {
    "colab": {
      "name": "Мелешенко_L1_Introduction_to_Spark.ipynb",
      "provenance": []
    },
    "kernelspec": {
      "name": "python3",
      "display_name": "Python 3"
    },
    "language_info": {
      "name": "python"
    }
  },
  "cells": [
    {
      "cell_type": "markdown",
      "source": [
        "# Лабораторная работа №1: Introduction to Apache Spark.<br>Выполнил студент группы 6133-010402D Мелешенко Иван."
      ],
      "metadata": {
        "id": "4N6IQ-5W7RzK"
      }
    },
    {
      "cell_type": "markdown",
      "source": [
        "# Задание на лабораторноую работу\n"
      ],
      "metadata": {
        "id": "k37K9Bwv89Sf"
      }
    },
    {
      "cell_type": "markdown",
      "source": [
        "##[Текст задания на лабораторную работу](https://gitlab.com/ssau.tk.courses/big_data/-/blob/master/L1%20-%20Introduction%20to%20Apache%20Spark/L1_Apache_Spark_Tasks.md)"
      ],
      "metadata": {
        "id": "ThK9E0AnZUV_"
      }
    },
    {
      "cell_type": "markdown",
      "source": [
        "Для данных велопарковок Сан-Франциско (trips.csv, stations.csv):\n",
        "1. Найти велосипед с максимальным временем пробега.\n",
        "2. Найти наибольшее геодезическое расстояние между станциями.\n",
        "3. Найти путь велосипеда с максимальным временем пробега через станции.\n",
        "4. Найти количество велосипедов в системе.\n",
        "5. Найти пользователей потративших на поездки более 3 часов."
      ],
      "metadata": {
        "id": "mToayAC_paVp"
      }
    },
    {
      "cell_type": "markdown",
      "source": [
        "# Этап 1. Подготовка средств и данных."
      ],
      "metadata": {
        "id": "irPpNRu_qGSM"
      }
    },
    {
      "cell_type": "markdown",
      "source": [
        "## Шаг 1. Установка PySpark"
      ],
      "metadata": {
        "id": "XTzaYQMiqUlU"
      }
    },
    {
      "cell_type": "markdown",
      "source": [
        "PySpark — это API Apache Spark, применяемый для распределенной обработки больших данных."
      ],
      "metadata": {
        "id": "CGNWS7Vcq27s"
      }
    },
    {
      "cell_type": "code",
      "source": [
        "!pip install pyspark"
      ],
      "metadata": {
        "colab": {
          "base_uri": "https://localhost:8080/"
        },
        "id": "kPmLpDN3q8je",
        "outputId": "8080817a-fd7d-486f-dc7a-e3c81b8413ee"
      },
      "execution_count": 1,
      "outputs": [
        {
          "output_type": "stream",
          "name": "stdout",
          "text": [
            "Collecting pyspark\n",
            "  Downloading pyspark-3.2.0.tar.gz (281.3 MB)\n",
            "\u001b[K     |████████████████████████████████| 281.3 MB 35 kB/s \n",
            "\u001b[?25hCollecting py4j==0.10.9.2\n",
            "  Downloading py4j-0.10.9.2-py2.py3-none-any.whl (198 kB)\n",
            "\u001b[K     |████████████████████████████████| 198 kB 59.0 MB/s \n",
            "\u001b[?25hBuilding wheels for collected packages: pyspark\n",
            "  Building wheel for pyspark (setup.py) ... \u001b[?25l\u001b[?25hdone\n",
            "  Created wheel for pyspark: filename=pyspark-3.2.0-py2.py3-none-any.whl size=281805911 sha256=5111f1989369ea5ddfb5034d279609048ac35ad497cfddd5e46eb31da5b22480\n",
            "  Stored in directory: /root/.cache/pip/wheels/0b/de/d2/9be5d59d7331c6c2a7c1b6d1a4f463ce107332b1ecd4e80718\n",
            "Successfully built pyspark\n",
            "Installing collected packages: py4j, pyspark\n",
            "Successfully installed py4j-0.10.9.2 pyspark-3.2.0\n"
          ]
        }
      ]
    },
    {
      "cell_type": "markdown",
      "source": [
        "## Шаг 2. Импорт необходимых библоитек."
      ],
      "metadata": {
        "id": "saSY9stBtk5U"
      }
    },
    {
      "cell_type": "markdown",
      "source": [
        "### ***SparkContext***"
      ],
      "metadata": {
        "id": "HzriWn9hu7bG"
      }
    },
    {
      "cell_type": "markdown",
      "source": [
        "SparkContext — это точка входа в любую функциональность Spark. Когда запускаем любое приложение Spark, запускается программа драйвера, которая выполняет основную функцию, и здесь запускается SparkContext. Затем программа драйвера запускает операции внутри исполнителей на рабочих узлах."
      ],
      "metadata": {
        "id": "dbt7bsgfucrd"
      }
    },
    {
      "cell_type": "markdown",
      "source": [
        "### ***SparkConf***"
      ],
      "metadata": {
        "id": "VcYnpu15wBhW"
      }
    },
    {
      "cell_type": "markdown",
      "source": [
        "Конфигурация приложения Spark. Используется для установки различных параметров Spark в виде пар ключ-значение. В большинстве случаев объект SparkConf создается с помощью new SparkConf(), который будет загружать значения из любого файла spark.* Системные свойства Java также устанавливаются в приложении. В этом случае параметры, которые установленны непосредственно на объекте SparkConf, имеют приоритет над системными свойствами."
      ],
      "metadata": {
        "id": "7PTfyiPCvQU1"
      }
    },
    {
      "cell_type": "markdown",
      "source": [
        "### Импорт библиотек"
      ],
      "metadata": {
        "id": "X-5KUR4qrHFK"
      }
    },
    {
      "cell_type": "code",
      "source": [
        "import pyspark\n",
        "from pyspark import SparkContext, SparkConf\n",
        "from typing import NamedTuple\n",
        "from datetime import datetime\n",
        "from functools import reduce"
      ],
      "metadata": {
        "id": "FlVLsL_Ctkie"
      },
      "execution_count": 2,
      "outputs": []
    },
    {
      "cell_type": "markdown",
      "source": [
        "## Шаг 3. Создание проекта."
      ],
      "metadata": {
        "id": "g93CVjokzJ_G"
      }
    },
    {
      "cell_type": "markdown",
      "source": [
        "### Создание точки конфигурации, установка имени проекта, и выбора подключения к кластеру\n"
      ],
      "metadata": {
        "id": "YHTeFf170kYz"
      }
    },
    {
      "cell_type": "code",
      "source": [
        "sc = SparkContext(conf=SparkConf().setAppName('L1ItroductionToApacheSpark').setMaster(\"local[*]\"))"
      ],
      "metadata": {
        "id": "2bV8HA402BUY"
      },
      "execution_count": 3,
      "outputs": []
    },
    {
      "cell_type": "markdown",
      "source": [
        "### Проверка установки"
      ],
      "metadata": {
        "id": "M-dpt_-S4MNQ"
      }
    },
    {
      "cell_type": "code",
      "source": [
        "sc"
      ],
      "metadata": {
        "colab": {
          "base_uri": "https://localhost:8080/",
          "height": 195
        },
        "id": "GNvgwFHx2GLZ",
        "outputId": "22fd2738-a2ef-446f-abf5-9046b9edc090"
      },
      "execution_count": 4,
      "outputs": [
        {
          "output_type": "execute_result",
          "data": {
            "text/html": [
              "\n",
              "        <div>\n",
              "            <p><b>SparkContext</b></p>\n",
              "\n",
              "            <p><a href=\"http://6bd391949a47:4040\">Spark UI</a></p>\n",
              "\n",
              "            <dl>\n",
              "              <dt>Version</dt>\n",
              "                <dd><code>v3.2.0</code></dd>\n",
              "              <dt>Master</dt>\n",
              "                <dd><code>local[*]</code></dd>\n",
              "              <dt>AppName</dt>\n",
              "                <dd><code>L1ItroductionToApacheSpark</code></dd>\n",
              "            </dl>\n",
              "        </div>\n",
              "        "
            ],
            "text/plain": [
              "<SparkContext master=local[*] appName=L1ItroductionToApacheSpark>"
            ]
          },
          "metadata": {},
          "execution_count": 4
        }
      ]
    },
    {
      "cell_type": "markdown",
      "source": [
        "## Шаг 4. Загрузка данных из файлов."
      ],
      "metadata": {
        "id": "JOVHLy5i4uUh"
      }
    },
    {
      "cell_type": "markdown",
      "source": [
        "Для ускорения загрузки файлов на гугл коллаб воспользуемся гугл диском."
      ],
      "metadata": {
        "id": "HMYMcbc_SGA-"
      }
    },
    {
      "cell_type": "code",
      "source": [
        "from google.colab import drive\n",
        "drive.mount('/content/drive')\n",
        "data_trip = sc.textFile(\"/content/drive/MyDrive/trips.csv\")\n",
        "data_station = sc.textFile(\"/content/drive/MyDrive/stations.csv\")"
      ],
      "metadata": {
        "colab": {
          "base_uri": "https://localhost:8080/"
        },
        "id": "fODyQsr_5EtI",
        "outputId": "eb032e18-eca8-47df-dfb3-15da2e58cc9f"
      },
      "execution_count": 5,
      "outputs": [
        {
          "output_type": "stream",
          "name": "stdout",
          "text": [
            "Mounted at /content/drive\n"
          ]
        }
      ]
    },
    {
      "cell_type": "markdown",
      "source": [
        "# Этап 2. Предобработка данных."
      ],
      "metadata": {
        "id": "ULwGE4jNSS99"
      }
    },
    {
      "cell_type": "markdown",
      "source": [
        "## Шаг 1. Определение заголовка данных"
      ],
      "metadata": {
        "id": "7j7ZMguyS1lF"
      }
    },
    {
      "cell_type": "markdown",
      "source": [
        "Определение заголовка необходимо провести с целью его дальнейшего отделения от данных."
      ],
      "metadata": {
        "id": "Zcnmg10nW8Mg"
      }
    },
    {
      "cell_type": "code",
      "source": [
        "headerOfTrips = data_trip.first()\n",
        "headerOfStations = data_station.first()"
      ],
      "metadata": {
        "id": "FG0mrlGkWtKw"
      },
      "execution_count": 6,
      "outputs": []
    },
    {
      "cell_type": "markdown",
      "source": [
        "## Шаг 2. Фильтрация данных."
      ],
      "metadata": {
        "id": "4_k8Cqv6aRFX"
      }
    },
    {
      "cell_type": "markdown",
      "source": [
        "### 2.1. Произведем отделение заголовка, определенного на предыдущем шаге."
      ],
      "metadata": {
        "id": "iEHfyVCZaXZP"
      }
    },
    {
      "cell_type": "code",
      "source": [
        "tripsWithOutHeader = data_trip.filter(lambda row: row != headerOfTrips)\n",
        "stationsWithOutHeader = data_station.filter(lambda row: row != headerOfStations)"
      ],
      "metadata": {
        "id": "BPA7RAQNaQ4v"
      },
      "execution_count": 7,
      "outputs": []
    },
    {
      "cell_type": "markdown",
      "source": [
        "### 2.2. Просмотр полученного результата"
      ],
      "metadata": {
        "id": "Kr9FyxiobWgp"
      }
    },
    {
      "cell_type": "code",
      "source": [
        "tripsWithOutHeader.take(10)"
      ],
      "metadata": {
        "colab": {
          "base_uri": "https://localhost:8080/"
        },
        "id": "uC3OSde_awto",
        "outputId": "e359630f-b84c-4f97-bf52-ac172daa90ea"
      },
      "execution_count": 8,
      "outputs": [
        {
          "output_type": "execute_result",
          "data": {
            "text/plain": [
              "['4576,63,,South Van Ness at Market,66,8/29/2013 14:14,South Van Ness at Market,66,520,Subscriber,94127',\n",
              " '4607,,8/29/2013 14:42,San Jose City Hall,10,8/29/2013 14:43,San Jose City Hall,10,661,Subscriber,95138',\n",
              " '4130,71,8/29/2013 10:16,Mountain View City Hall,27,8/29/2013 10:17,Mountain View City Hall,27,48,Subscriber,97214',\n",
              " '4251,77,8/29/2013 11:29,San Jose City Hall,10,8/29/2013 11:30,San Jose City Hall,10,26,Subscriber,95060',\n",
              " '4299,83,8/29/2013 12:02,South Van Ness at Market,66,8/29/2013 12:04,Market at 10th,67,319,Subscriber,94103',\n",
              " '4927,103,8/29/2013 18:54,Golden Gate at Polk,59,8/29/2013 18:56,Golden Gate at Polk,59,527,Subscriber,94109',\n",
              " '4500,109,8/29/2013 13:25,Santa Clara at Almaden,4,8/29/2013 13:27,Adobe on Almaden,5,679,Subscriber,95112',\n",
              " '4563,111,8/29/2013 14:02,San Salvador at 1st,8,8/29/2013 14:04,San Salvador at 1st,8,687,Subscriber,95112',\n",
              " '4760,113,8/29/2013 17:01,South Van Ness at Market,66,8/29/2013 17:03,South Van Ness at Market,66,553,Subscriber,94103',\n",
              " '4258,114,8/29/2013 11:33,San Jose City Hall,10,8/29/2013 11:35,MLK Library,11,107,Subscriber,95060']"
            ]
          },
          "metadata": {},
          "execution_count": 8
        }
      ]
    },
    {
      "cell_type": "code",
      "source": [
        "stationsWithOutHeader.take(10)"
      ],
      "metadata": {
        "colab": {
          "base_uri": "https://localhost:8080/"
        },
        "id": "eLqYQs4sa6fH",
        "outputId": "218530ff-f4fb-4278-bc0b-2dbdc3236f7c"
      },
      "execution_count": 9,
      "outputs": [
        {
          "output_type": "execute_result",
          "data": {
            "text/plain": [
              "['2,San Jose Diridon Caltrain Station,37.329732,-121.90178200000001,27,San Jose,8/6/2013',\n",
              " '3,San Jose Civic Center,37.330698,-121.888979,15,San Jose,8/5/2013',\n",
              " '4,Santa Clara at Almaden,37.333988,-121.894902,11,San Jose,8/6/2013',\n",
              " '5,Adobe on Almaden,37.331415,-121.8932,19,San Jose,8/5/2013',\n",
              " '6,San Pedro Square,37.336721000000004,-121.894074,15,San Jose,8/7/2013',\n",
              " '7,Paseo de San Antonio,37.333798,-121.88694299999999,15,San Jose,8/7/2013',\n",
              " '8,San Salvador at 1st,37.330165,-121.88583100000001,15,San Jose,8/5/2013',\n",
              " '9,Japantown,37.348742,-121.89471499999999,15,San Jose,8/5/2013',\n",
              " '10,San Jose City Hall,37.337391,-121.886995,15,San Jose,8/6/2013',\n",
              " '11,MLK Library,37.335885,-121.88566000000002,19,San Jose,8/6/2013']"
            ]
          },
          "metadata": {},
          "execution_count": 9
        }
      ]
    },
    {
      "cell_type": "markdown",
      "source": [
        "### 2.3. Фиксация заголовка"
      ],
      "metadata": {
        "id": "IOsyIC20cc1Q"
      }
    },
    {
      "cell_type": "markdown",
      "source": [
        "Сохранение параметров поездок и станций в виде списка, может пригодиться далее"
      ],
      "metadata": {
        "id": "BgwddxPidrJT"
      }
    },
    {
      "cell_type": "code",
      "source": [
        "trip_parametr = list(enumerate(headerOfTrips.split(\",\")))\n",
        "station_parametr = list(enumerate(headerOfStations.split(\",\")))"
      ],
      "metadata": {
        "id": "eWXBeYHecjU4"
      },
      "execution_count": 10,
      "outputs": []
    },
    {
      "cell_type": "markdown",
      "source": [
        "Просмотр результата"
      ],
      "metadata": {
        "id": "CPgFf6RJdzWp"
      }
    },
    {
      "cell_type": "code",
      "source": [
        "trip_parametr"
      ],
      "metadata": {
        "colab": {
          "base_uri": "https://localhost:8080/"
        },
        "id": "z2ttJoQmdi9g",
        "outputId": "d0766edb-c052-4d36-a8cc-f90c73910371"
      },
      "execution_count": 11,
      "outputs": [
        {
          "output_type": "execute_result",
          "data": {
            "text/plain": [
              "[(0, 'id'),\n",
              " (1, 'duration'),\n",
              " (2, 'start_date'),\n",
              " (3, 'start_station_name'),\n",
              " (4, 'start_station_id'),\n",
              " (5, 'end_date'),\n",
              " (6, 'end_station_name'),\n",
              " (7, 'end_station_id'),\n",
              " (8, 'bike_id'),\n",
              " (9, 'subscription_type'),\n",
              " (10, 'zip_code')]"
            ]
          },
          "metadata": {},
          "execution_count": 11
        }
      ]
    },
    {
      "cell_type": "code",
      "source": [
        "station_parametr"
      ],
      "metadata": {
        "colab": {
          "base_uri": "https://localhost:8080/"
        },
        "id": "hi0Q8Yokdi6R",
        "outputId": "ad748f36-8bd9-4e2f-fb26-4629ba1ec48f"
      },
      "execution_count": 12,
      "outputs": [
        {
          "output_type": "execute_result",
          "data": {
            "text/plain": [
              "[(0, 'id'),\n",
              " (1, 'name'),\n",
              " (2, 'lat'),\n",
              " (3, 'long'),\n",
              " (4, 'dock_count'),\n",
              " (5, 'city'),\n",
              " (6, 'installation_date')]"
            ]
          },
          "metadata": {},
          "execution_count": 12
        }
      ]
    },
    {
      "cell_type": "markdown",
      "source": [
        "## Шаг 3. Разбиение данных."
      ],
      "metadata": {
        "id": "2eEzKbTpeU64"
      }
    },
    {
      "cell_type": "markdown",
      "source": [
        "### 3.1. Разбиение данных"
      ],
      "metadata": {
        "id": "kyNpys0PiFHi"
      }
    },
    {
      "cell_type": "markdown",
      "source": [
        "Произведем разбиемние данных от строкового формата к ячеечному, для облегченоого доступа к данным"
      ],
      "metadata": {
        "id": "kiPrKdXbh6cF"
      }
    },
    {
      "cell_type": "code",
      "source": [
        "final_trips_data = tripsWithOutHeader.map(lambda x: x.split(','))\n",
        "final_stations_data = stationsWithOutHeader.map(lambda x: x.split(','))"
      ],
      "metadata": {
        "id": "hoIhvMOkebvL"
      },
      "execution_count": 13,
      "outputs": []
    },
    {
      "cell_type": "markdown",
      "source": [
        "### 3.2 Просмотр данных"
      ],
      "metadata": {
        "id": "LEV4GMNmiL3K"
      }
    },
    {
      "cell_type": "code",
      "source": [
        "final_trips_data.take(5)"
      ],
      "metadata": {
        "id": "F5gGFJxLhj5i",
        "colab": {
          "base_uri": "https://localhost:8080/"
        },
        "outputId": "a19c9fd9-c94f-4ecb-9732-41c0395ca59a"
      },
      "execution_count": 14,
      "outputs": [
        {
          "output_type": "execute_result",
          "data": {
            "text/plain": [
              "[['4576',\n",
              "  '63',\n",
              "  '',\n",
              "  'South Van Ness at Market',\n",
              "  '66',\n",
              "  '8/29/2013 14:14',\n",
              "  'South Van Ness at Market',\n",
              "  '66',\n",
              "  '520',\n",
              "  'Subscriber',\n",
              "  '94127'],\n",
              " ['4607',\n",
              "  '',\n",
              "  '8/29/2013 14:42',\n",
              "  'San Jose City Hall',\n",
              "  '10',\n",
              "  '8/29/2013 14:43',\n",
              "  'San Jose City Hall',\n",
              "  '10',\n",
              "  '661',\n",
              "  'Subscriber',\n",
              "  '95138'],\n",
              " ['4130',\n",
              "  '71',\n",
              "  '8/29/2013 10:16',\n",
              "  'Mountain View City Hall',\n",
              "  '27',\n",
              "  '8/29/2013 10:17',\n",
              "  'Mountain View City Hall',\n",
              "  '27',\n",
              "  '48',\n",
              "  'Subscriber',\n",
              "  '97214'],\n",
              " ['4251',\n",
              "  '77',\n",
              "  '8/29/2013 11:29',\n",
              "  'San Jose City Hall',\n",
              "  '10',\n",
              "  '8/29/2013 11:30',\n",
              "  'San Jose City Hall',\n",
              "  '10',\n",
              "  '26',\n",
              "  'Subscriber',\n",
              "  '95060'],\n",
              " ['4299',\n",
              "  '83',\n",
              "  '8/29/2013 12:02',\n",
              "  'South Van Ness at Market',\n",
              "  '66',\n",
              "  '8/29/2013 12:04',\n",
              "  'Market at 10th',\n",
              "  '67',\n",
              "  '319',\n",
              "  'Subscriber',\n",
              "  '94103']]"
            ]
          },
          "metadata": {},
          "execution_count": 14
        }
      ]
    },
    {
      "cell_type": "code",
      "source": [
        "final_stations_data.take(5)"
      ],
      "metadata": {
        "id": "0x9yy3TDhwQp",
        "colab": {
          "base_uri": "https://localhost:8080/"
        },
        "outputId": "e26331fc-3d3c-45de-b4b3-52f2a057383f"
      },
      "execution_count": 15,
      "outputs": [
        {
          "output_type": "execute_result",
          "data": {
            "text/plain": [
              "[['2',\n",
              "  'San Jose Diridon Caltrain Station',\n",
              "  '37.329732',\n",
              "  '-121.90178200000001',\n",
              "  '27',\n",
              "  'San Jose',\n",
              "  '8/6/2013'],\n",
              " ['3',\n",
              "  'San Jose Civic Center',\n",
              "  '37.330698',\n",
              "  '-121.888979',\n",
              "  '15',\n",
              "  'San Jose',\n",
              "  '8/5/2013'],\n",
              " ['4',\n",
              "  'Santa Clara at Almaden',\n",
              "  '37.333988',\n",
              "  '-121.894902',\n",
              "  '11',\n",
              "  'San Jose',\n",
              "  '8/6/2013'],\n",
              " ['5',\n",
              "  'Adobe on Almaden',\n",
              "  '37.331415',\n",
              "  '-121.8932',\n",
              "  '19',\n",
              "  'San Jose',\n",
              "  '8/5/2013'],\n",
              " ['6',\n",
              "  'San Pedro Square',\n",
              "  '37.336721000000004',\n",
              "  '-121.894074',\n",
              "  '15',\n",
              "  'San Jose',\n",
              "  '8/7/2013']]"
            ]
          },
          "metadata": {},
          "execution_count": 15
        }
      ]
    },
    {
      "cell_type": "markdown",
      "source": [
        "# Этап 3. Разработка и применение модели."
      ],
      "metadata": {
        "id": "C6UEX8Vvi-pa"
      }
    },
    {
      "cell_type": "markdown",
      "source": [
        "## Шаг 1. Модель для Trips"
      ],
      "metadata": {
        "id": "67UdNt-Fqhe6"
      }
    },
    {
      "cell_type": "markdown",
      "source": [
        "Для описания модели обратимся к зафиксированному заголовку данных на шаге 2.3 Этапа 1"
      ],
      "metadata": {
        "id": "RiBBgxzFsMES"
      }
    },
    {
      "cell_type": "code",
      "source": [
        "trip_parametr"
      ],
      "metadata": {
        "colab": {
          "base_uri": "https://localhost:8080/"
        },
        "id": "4SubsxiBqm4h",
        "outputId": "cd886166-5002-499f-c3c0-28d785808361"
      },
      "execution_count": 16,
      "outputs": [
        {
          "output_type": "execute_result",
          "data": {
            "text/plain": [
              "[(0, 'id'),\n",
              " (1, 'duration'),\n",
              " (2, 'start_date'),\n",
              " (3, 'start_station_name'),\n",
              " (4, 'start_station_id'),\n",
              " (5, 'end_date'),\n",
              " (6, 'end_station_name'),\n",
              " (7, 'end_station_id'),\n",
              " (8, 'bike_id'),\n",
              " (9, 'subscription_type'),\n",
              " (10, 'zip_code')]"
            ]
          },
          "metadata": {},
          "execution_count": 16
        }
      ]
    },
    {
      "cell_type": "markdown",
      "source": [
        "На основании этих данных и будем строить модель Trips"
      ],
      "metadata": {
        "id": "H-tJDXepsZhK"
      }
    },
    {
      "cell_type": "code",
      "source": [
        "def initModelTrip(trips):\n",
        "    class Trip(NamedTuple):\n",
        "        trip_id: int\n",
        "        duration: int\n",
        "        start_date: datetime\n",
        "        start_station_name: str\n",
        "        start_station_id: int\n",
        "        end_date: datetime\n",
        "        end_station_name: str\n",
        "        end_station_id: int\n",
        "        bike_id: int\n",
        "        subscription_type: str\n",
        "        zip_code: str\n",
        "        \n",
        "    for trip in trips:\n",
        "        try:\n",
        "            yield Trip(                             \n",
        "             trip_id = int(trip[0]),\n",
        "             duration = int(trip[1]),\n",
        "             start_date = datetime.strptime(trip[2], '%m/%d/%Y %H:%M'),\n",
        "             start_station_name = trip[3],\n",
        "             start_station_id = int(trip[4]),\n",
        "             end_date = datetime.strptime(trip[5], '%m/%d/%Y %H:%M'),\n",
        "             end_station_name = trip[6],\n",
        "             end_station_id = trip[7],\n",
        "             bike_id = int(trip[8]),\n",
        "             subscription_type = trip[9],\n",
        "             zip_code = trip[10]\n",
        "            ) \n",
        "        except:\n",
        "            pass"
      ],
      "metadata": {
        "id": "MlxAUUUGsegC"
      },
      "execution_count": 17,
      "outputs": []
    },
    {
      "cell_type": "markdown",
      "source": [
        "## Шаг 2. Модель для Stantions"
      ],
      "metadata": {
        "id": "80t-rI9PqnCh"
      }
    },
    {
      "cell_type": "markdown",
      "source": [
        "Для описания модели обратимся к зафиксированному заголовку данных на шаге 2.3 Этапа 1"
      ],
      "metadata": {
        "id": "Ay_Bo7yhuycL"
      }
    },
    {
      "cell_type": "code",
      "source": [
        "station_parametr"
      ],
      "metadata": {
        "colab": {
          "base_uri": "https://localhost:8080/"
        },
        "id": "rl9gZbPjux6b",
        "outputId": "0ce9bfb9-9240-4d43-c8b5-e057057436d8"
      },
      "execution_count": 18,
      "outputs": [
        {
          "output_type": "execute_result",
          "data": {
            "text/plain": [
              "[(0, 'id'),\n",
              " (1, 'name'),\n",
              " (2, 'lat'),\n",
              " (3, 'long'),\n",
              " (4, 'dock_count'),\n",
              " (5, 'city'),\n",
              " (6, 'installation_date')]"
            ]
          },
          "metadata": {},
          "execution_count": 18
        }
      ]
    },
    {
      "cell_type": "markdown",
      "source": [
        "На основании этих данных и будем строить модель Stantions"
      ],
      "metadata": {
        "id": "PYhmFaN0uxxc"
      }
    },
    {
      "cell_type": "code",
      "source": [
        "def initModelStation(stations):\n",
        "    class Station(NamedTuple):\n",
        "        station_id: int\n",
        "        name: str\n",
        "        lat: float\n",
        "        long: float\n",
        "        dockcount: int\n",
        "        landmark: str\n",
        "        installation: str\n",
        "    \n",
        "    for station in stations:\n",
        "        yield Station(\n",
        "            station_id = int(station[0]),\n",
        "            name = station[1],\n",
        "            lat = float(station[2]),\n",
        "            long = float(station[3]),\n",
        "            dockcount = int(station[4]),\n",
        "            landmark = station[5],\n",
        "            installation = datetime.strptime(station[6], '%m/%d/%Y')\n",
        "        )"
      ],
      "metadata": {
        "id": "B2GyVBxnquap"
      },
      "execution_count": 19,
      "outputs": []
    },
    {
      "cell_type": "markdown",
      "source": [
        "## Шаг 3. Применение модели к полученным данным."
      ],
      "metadata": {
        "id": "vxHhf8Xg3-Kp"
      }
    },
    {
      "cell_type": "markdown",
      "source": [
        "### 3.1 Применение модели Trips"
      ],
      "metadata": {
        "id": "KRewA50n6UlN"
      }
    },
    {
      "cell_type": "code",
      "source": [
        "tripsProcessedByModel = final_trips_data.mapPartitions(initModelTrip)"
      ],
      "metadata": {
        "id": "rITAcjnq4Owy"
      },
      "execution_count": 20,
      "outputs": []
    },
    {
      "cell_type": "markdown",
      "source": [
        "#### Вывод результатов"
      ],
      "metadata": {
        "id": "4sa-lg3M6tfa"
      }
    },
    {
      "cell_type": "code",
      "source": [
        "tripsProcessedByModel.take(10)"
      ],
      "metadata": {
        "colab": {
          "base_uri": "https://localhost:8080/"
        },
        "id": "9zIS_9bH5_k7",
        "outputId": "fca79e3c-1246-4f46-8c12-6429b8d97831"
      },
      "execution_count": 21,
      "outputs": [
        {
          "output_type": "execute_result",
          "data": {
            "text/plain": [
              "[Trip(trip_id=4130, duration=71, start_date=datetime.datetime(2013, 8, 29, 10, 16), start_station_name='Mountain View City Hall', start_station_id=27, end_date=datetime.datetime(2013, 8, 29, 10, 17), end_station_name='Mountain View City Hall', end_station_id='27', bike_id=48, subscription_type='Subscriber', zip_code='97214'),\n",
              " Trip(trip_id=4251, duration=77, start_date=datetime.datetime(2013, 8, 29, 11, 29), start_station_name='San Jose City Hall', start_station_id=10, end_date=datetime.datetime(2013, 8, 29, 11, 30), end_station_name='San Jose City Hall', end_station_id='10', bike_id=26, subscription_type='Subscriber', zip_code='95060'),\n",
              " Trip(trip_id=4299, duration=83, start_date=datetime.datetime(2013, 8, 29, 12, 2), start_station_name='South Van Ness at Market', start_station_id=66, end_date=datetime.datetime(2013, 8, 29, 12, 4), end_station_name='Market at 10th', end_station_id='67', bike_id=319, subscription_type='Subscriber', zip_code='94103'),\n",
              " Trip(trip_id=4927, duration=103, start_date=datetime.datetime(2013, 8, 29, 18, 54), start_station_name='Golden Gate at Polk', start_station_id=59, end_date=datetime.datetime(2013, 8, 29, 18, 56), end_station_name='Golden Gate at Polk', end_station_id='59', bike_id=527, subscription_type='Subscriber', zip_code='94109'),\n",
              " Trip(trip_id=4500, duration=109, start_date=datetime.datetime(2013, 8, 29, 13, 25), start_station_name='Santa Clara at Almaden', start_station_id=4, end_date=datetime.datetime(2013, 8, 29, 13, 27), end_station_name='Adobe on Almaden', end_station_id='5', bike_id=679, subscription_type='Subscriber', zip_code='95112'),\n",
              " Trip(trip_id=4563, duration=111, start_date=datetime.datetime(2013, 8, 29, 14, 2), start_station_name='San Salvador at 1st', start_station_id=8, end_date=datetime.datetime(2013, 8, 29, 14, 4), end_station_name='San Salvador at 1st', end_station_id='8', bike_id=687, subscription_type='Subscriber', zip_code='95112'),\n",
              " Trip(trip_id=4760, duration=113, start_date=datetime.datetime(2013, 8, 29, 17, 1), start_station_name='South Van Ness at Market', start_station_id=66, end_date=datetime.datetime(2013, 8, 29, 17, 3), end_station_name='South Van Ness at Market', end_station_id='66', bike_id=553, subscription_type='Subscriber', zip_code='94103'),\n",
              " Trip(trip_id=4258, duration=114, start_date=datetime.datetime(2013, 8, 29, 11, 33), start_station_name='San Jose City Hall', start_station_id=10, end_date=datetime.datetime(2013, 8, 29, 11, 35), end_station_name='MLK Library', end_station_id='11', bike_id=107, subscription_type='Subscriber', zip_code='95060'),\n",
              " Trip(trip_id=4549, duration=125, start_date=datetime.datetime(2013, 8, 29, 13, 52), start_station_name='Spear at Folsom', start_station_id=49, end_date=datetime.datetime(2013, 8, 29, 13, 55), end_station_name='Embarcadero at Bryant', end_station_id='54', bike_id=368, subscription_type='Subscriber', zip_code='94109'),\n",
              " Trip(trip_id=4498, duration=126, start_date=datetime.datetime(2013, 8, 29, 13, 23), start_station_name='San Pedro Square', start_station_id=6, end_date=datetime.datetime(2013, 8, 29, 13, 25), end_station_name='Santa Clara at Almaden', end_station_id='4', bike_id=26, subscription_type='Subscriber', zip_code='95112')]"
            ]
          },
          "metadata": {},
          "execution_count": 21
        }
      ]
    },
    {
      "cell_type": "markdown",
      "source": [
        "### 3.2 Применение модели Stations"
      ],
      "metadata": {
        "id": "q8Ecz8ZH6f4q"
      }
    },
    {
      "cell_type": "code",
      "source": [
        "stationsProcessedByModel = final_stations_data.mapPartitions(initModelStation)"
      ],
      "metadata": {
        "id": "a6Y80iB-4-hq"
      },
      "execution_count": 22,
      "outputs": []
    },
    {
      "cell_type": "markdown",
      "source": [
        "#### Вывод результатов"
      ],
      "metadata": {
        "id": "nIlQFrf36x7S"
      }
    },
    {
      "cell_type": "code",
      "source": [
        "stationsProcessedByModel.take(10)"
      ],
      "metadata": {
        "colab": {
          "base_uri": "https://localhost:8080/"
        },
        "id": "L8pSDTaz5_4C",
        "outputId": "ecce912c-62f8-4c1d-abd4-1880269cead3"
      },
      "execution_count": 23,
      "outputs": [
        {
          "output_type": "execute_result",
          "data": {
            "text/plain": [
              "[Station(station_id=2, name='San Jose Diridon Caltrain Station', lat=37.329732, long=-121.90178200000001, dockcount=27, landmark='San Jose', installation=datetime.datetime(2013, 8, 6, 0, 0)),\n",
              " Station(station_id=3, name='San Jose Civic Center', lat=37.330698, long=-121.888979, dockcount=15, landmark='San Jose', installation=datetime.datetime(2013, 8, 5, 0, 0)),\n",
              " Station(station_id=4, name='Santa Clara at Almaden', lat=37.333988, long=-121.894902, dockcount=11, landmark='San Jose', installation=datetime.datetime(2013, 8, 6, 0, 0)),\n",
              " Station(station_id=5, name='Adobe on Almaden', lat=37.331415, long=-121.8932, dockcount=19, landmark='San Jose', installation=datetime.datetime(2013, 8, 5, 0, 0)),\n",
              " Station(station_id=6, name='San Pedro Square', lat=37.336721000000004, long=-121.894074, dockcount=15, landmark='San Jose', installation=datetime.datetime(2013, 8, 7, 0, 0)),\n",
              " Station(station_id=7, name='Paseo de San Antonio', lat=37.333798, long=-121.88694299999999, dockcount=15, landmark='San Jose', installation=datetime.datetime(2013, 8, 7, 0, 0)),\n",
              " Station(station_id=8, name='San Salvador at 1st', lat=37.330165, long=-121.88583100000001, dockcount=15, landmark='San Jose', installation=datetime.datetime(2013, 8, 5, 0, 0)),\n",
              " Station(station_id=9, name='Japantown', lat=37.348742, long=-121.89471499999999, dockcount=15, landmark='San Jose', installation=datetime.datetime(2013, 8, 5, 0, 0)),\n",
              " Station(station_id=10, name='San Jose City Hall', lat=37.337391, long=-121.886995, dockcount=15, landmark='San Jose', installation=datetime.datetime(2013, 8, 6, 0, 0)),\n",
              " Station(station_id=11, name='MLK Library', lat=37.335885, long=-121.88566000000002, dockcount=19, landmark='San Jose', installation=datetime.datetime(2013, 8, 6, 0, 0))]"
            ]
          },
          "metadata": {},
          "execution_count": 23
        }
      ]
    },
    {
      "cell_type": "markdown",
      "source": [
        "# Этап 4. Выполнение заданий."
      ],
      "metadata": {
        "id": "bMGW9SDQ812v"
      }
    },
    {
      "cell_type": "markdown",
      "source": [
        "## <center> ***Задание 1. Найти велосипед с максимальным временем пробега.*** </center>"
      ],
      "metadata": {
        "id": "fMk1NL9g893E"
      }
    },
    {
      "cell_type": "markdown",
      "source": [
        "### Преобразование данных к виду ключ-значение"
      ],
      "metadata": {
        "id": "Wu8NGidTDDkX"
      }
    },
    {
      "cell_type": "markdown",
      "source": [
        "Для работы нам потребуется список пар:<br>\n",
        "`ключ (номер id велосипеда) - значение (данные в строке с этим id)`"
      ],
      "metadata": {
        "id": "fVFjRSZmBkBF"
      }
    },
    {
      "cell_type": "code",
      "source": [
        "tripMapWithBicycle = tripsProcessedByModel.keyBy(lambda x: x.bike_id)\n",
        "tripMapWithBicycle.take(5)"
      ],
      "metadata": {
        "colab": {
          "base_uri": "https://localhost:8080/"
        },
        "id": "9-G-ZPOi8-Wj",
        "outputId": "0cf8b981-46e9-4f5e-e242-eed71efe6b0a"
      },
      "execution_count": 24,
      "outputs": [
        {
          "output_type": "execute_result",
          "data": {
            "text/plain": [
              "[(48,\n",
              "  Trip(trip_id=4130, duration=71, start_date=datetime.datetime(2013, 8, 29, 10, 16), start_station_name='Mountain View City Hall', start_station_id=27, end_date=datetime.datetime(2013, 8, 29, 10, 17), end_station_name='Mountain View City Hall', end_station_id='27', bike_id=48, subscription_type='Subscriber', zip_code='97214')),\n",
              " (26,\n",
              "  Trip(trip_id=4251, duration=77, start_date=datetime.datetime(2013, 8, 29, 11, 29), start_station_name='San Jose City Hall', start_station_id=10, end_date=datetime.datetime(2013, 8, 29, 11, 30), end_station_name='San Jose City Hall', end_station_id='10', bike_id=26, subscription_type='Subscriber', zip_code='95060')),\n",
              " (319,\n",
              "  Trip(trip_id=4299, duration=83, start_date=datetime.datetime(2013, 8, 29, 12, 2), start_station_name='South Van Ness at Market', start_station_id=66, end_date=datetime.datetime(2013, 8, 29, 12, 4), end_station_name='Market at 10th', end_station_id='67', bike_id=319, subscription_type='Subscriber', zip_code='94103')),\n",
              " (527,\n",
              "  Trip(trip_id=4927, duration=103, start_date=datetime.datetime(2013, 8, 29, 18, 54), start_station_name='Golden Gate at Polk', start_station_id=59, end_date=datetime.datetime(2013, 8, 29, 18, 56), end_station_name='Golden Gate at Polk', end_station_id='59', bike_id=527, subscription_type='Subscriber', zip_code='94109')),\n",
              " (679,\n",
              "  Trip(trip_id=4500, duration=109, start_date=datetime.datetime(2013, 8, 29, 13, 25), start_station_name='Santa Clara at Almaden', start_station_id=4, end_date=datetime.datetime(2013, 8, 29, 13, 27), end_station_name='Adobe on Almaden', end_station_id='5', bike_id=679, subscription_type='Subscriber', zip_code='95112'))]"
            ]
          },
          "metadata": {},
          "execution_count": 24
        }
      ]
    },
    {
      "cell_type": "markdown",
      "source": [
        "### Группировка данных по продолжительности (duration)"
      ],
      "metadata": {
        "id": "SXKvPWYjDp2W"
      }
    },
    {
      "cell_type": "code",
      "source": [
        "durationBicycleMap = tripMapWithBicycle.mapValues(lambda x: x.duration).reduceByKey(lambda x1, x2: x1 + x2)"
      ],
      "metadata": {
        "id": "cOGFoZqGDAtt"
      },
      "execution_count": 25,
      "outputs": []
    },
    {
      "cell_type": "markdown",
      "source": [
        "### Определение топ 1 (duration)"
      ],
      "metadata": {
        "id": "zPCRzUouEBid"
      }
    },
    {
      "cell_type": "code",
      "source": [
        "topOfDurationBicycleMap = durationBicycleMap.top(1, key=lambda x: x[1])[0][0]"
      ],
      "metadata": {
        "id": "Ln9aG63QDAoN"
      },
      "execution_count": 26,
      "outputs": []
    },
    {
      "cell_type": "markdown",
      "source": [
        "### <center> ***Ответ на задание 1. Найти велосипед с максимальным временем пробега.*** </center>"
      ],
      "metadata": {
        "id": "AGV75MsbEbA-"
      }
    },
    {
      "cell_type": "code",
      "source": [
        "topOfDurationBicycleMap"
      ],
      "metadata": {
        "colab": {
          "base_uri": "https://localhost:8080/"
        },
        "id": "2nrDOdgLEvG1",
        "outputId": "63752bf3-0be9-4a58-dc80-b0e9400f8e1a"
      },
      "execution_count": 27,
      "outputs": [
        {
          "output_type": "execute_result",
          "data": {
            "text/plain": [
              "535"
            ]
          },
          "metadata": {},
          "execution_count": 27
        }
      ]
    },
    {
      "cell_type": "markdown",
      "source": [
        "## <center> ***Задание 2. Найти наибольшее геодезическое расстояние между станциями.*** </center>"
      ],
      "metadata": {
        "id": "x7HUQEpk89zF"
      }
    },
    {
      "cell_type": "markdown",
      "source": [
        "### Подключение библиотеки `math`"
      ],
      "metadata": {
        "id": "5J5Fep_uGx53"
      }
    },
    {
      "cell_type": "markdown",
      "source": [
        "Данная библиотека необходим для производства математических вичислений при расчете расстояния."
      ],
      "metadata": {
        "id": "FbN3HYz6G-kG"
      }
    },
    {
      "cell_type": "code",
      "source": [
        "from math import *"
      ],
      "metadata": {
        "id": "1Wbq8db99ezc"
      },
      "execution_count": 28,
      "outputs": []
    },
    {
      "cell_type": "markdown",
      "source": [
        "### Описание метода для расчета геодезического расстояния"
      ],
      "metadata": {
        "id": "XsxMsOywIiYn"
      }
    },
    {
      "cell_type": "code",
      "source": [
        "def distanceBetweenStations(gLatitudeFirstStation, gLongitudeFirstStation, gLatitudeSecondStation, gLongitudeSecondStation):\n",
        "  earth_radius = 6371.0088\n",
        "  gLatitudeFirstStation, gLongitudeFirstStation = radians(gLatitudeFirstStation), radians(gLongitudeFirstStation)\n",
        "  gLatitudeSecondStation, gLongitudeSecondStation = radians(gLatitudeSecondStation), radians(gLongitudeSecondStation)\n",
        "\n",
        "  differenceLatitude = gLatitudeSecondStation - gLatitudeFirstStation\n",
        "  differenceLongitude = gLongitudeSecondStation - gLongitudeFirstStation\n",
        "  \n",
        "  haversinusLatitutde = (sin(differenceLatitude / 2)) ** 2\n",
        "  haversinusLongitude = (sin(differenceLongitude / 2)) ** 2\n",
        "  \n",
        "  return 2 * earth_radius * sqrt(haversinusLatitutde + cos(gLatitudeFirstStation)\\\n",
        "                                 * cos(gLatitudeSecondStation) * haversinusLongitude)"
      ],
      "metadata": {
        "id": "p1Fer7_cHZbg"
      },
      "execution_count": 29,
      "outputs": []
    },
    {
      "cell_type": "markdown",
      "source": [
        "### Вычисление расстояний между станциями"
      ],
      "metadata": {
        "id": "Fyp7JqgfJe2Y"
      }
    },
    {
      "cell_type": "code",
      "source": [
        "mapDistance = stationsProcessedByModel.cartesian(stationsProcessedByModel)\\\n",
        "                         .filter(lambda x: x[0].station_id != x[1].station_id)\\\n",
        "                         .map(lambda x: [x[0], x[1], distanceBetweenStations(x[0].lat, x[0].long, x[1].lat, x[1].long)])\\\n",
        "                         .keyBy(lambda x: (x[0].name, x[1].name))\\\n",
        "                         .reduce(lambda x1, x2: x1 if x1[1] > x2[1] else x2)"
      ],
      "metadata": {
        "id": "W1EcRD2sJe7H"
      },
      "execution_count": 31,
      "outputs": []
    },
    {
      "cell_type": "markdown",
      "source": [
        "### Определение максимального геодезического расстояния"
      ],
      "metadata": {
        "id": "7gNBDpM3J7qP"
      }
    },
    {
      "cell_type": "code",
      "source": [
        "wayBetweenStantion = mapDistance[0]\n",
        "kilometrsBetweenStantion = mapDistance[1][2]"
      ],
      "metadata": {
        "id": "46L-DQLjKGTH"
      },
      "execution_count": 33,
      "outputs": []
    },
    {
      "cell_type": "markdown",
      "source": [
        "### <center> ***Ответ на задание 2.  Найти наибольшее геодезическое расстояние между станциями.*** </center>"
      ],
      "metadata": {
        "id": "6X-4pCIqUjLz"
      }
    },
    {
      "cell_type": "code",
      "source": [
        "print(f\"Максимальное расстояние между станциями: {wayBetweenStantion}, {kilometrsBetweenStantion}.\")"
      ],
      "metadata": {
        "colab": {
          "base_uri": "https://localhost:8080/"
        },
        "id": "whqQV1Q0Ujlb",
        "outputId": "45275335-5b29-48c2-8e81-8ed5f6ff07e0"
      },
      "execution_count": 34,
      "outputs": [
        {
          "output_type": "stream",
          "name": "stdout",
          "text": [
            "Максимальное расстояние между станциями: ('Ryland Park', 'Mezes Park'), 34.317914350160784.\n"
          ]
        }
      ]
    },
    {
      "cell_type": "markdown",
      "source": [
        "## <center> ***Задание 3. Найти путь велосипеда с максимальным временем пробега через станции.*** </center>"
      ],
      "metadata": {
        "id": "f9TnXnJq89tD"
      }
    },
    {
      "cell_type": "code",
      "source": [
        "wayBicycleWithMaxDuration = tripsProcessedByModel.filter(lambda x: x.bike_id == topOfDurationBicycleMap)\\\n",
        ".sortBy(lambda x: x.start_date).map(lambda x: (x.start_station_name, x.end_station_name))"
      ],
      "metadata": {
        "id": "P3vt4IfB9fCc"
      },
      "execution_count": 35,
      "outputs": []
    },
    {
      "cell_type": "markdown",
      "source": [
        "### <center> ***Ответ на задание 3. Найти путь велосипеда с максимальным временем пробега через станции.*** </center>"
      ],
      "metadata": {
        "id": "okoj6Zo-Uuij"
      }
    },
    {
      "cell_type": "code",
      "source": [
        "wayBicycleWithMaxDuration.take(10)"
      ],
      "metadata": {
        "colab": {
          "base_uri": "https://localhost:8080/"
        },
        "id": "EFkLQT6QQPUq",
        "outputId": "6eb5803a-0879-46ac-af5f-53279489441e"
      },
      "execution_count": 39,
      "outputs": [
        {
          "output_type": "execute_result",
          "data": {
            "text/plain": [
              "[('Post at Kearney', 'San Francisco Caltrain (Townsend at 4th)'),\n",
              " ('San Francisco Caltrain (Townsend at 4th)',\n",
              "  'San Francisco Caltrain 2 (330 Townsend)'),\n",
              " ('San Francisco Caltrain 2 (330 Townsend)', 'Market at Sansome'),\n",
              " ('Market at Sansome', '2nd at South Park'),\n",
              " ('2nd at Townsend', 'Davis at Jackson'),\n",
              " ('San Francisco City Hall', 'Civic Center BART (7th at Market)'),\n",
              " ('Civic Center BART (7th at Market)', 'Post at Kearney'),\n",
              " ('Post at Kearney', 'Embarcadero at Sansome'),\n",
              " ('Embarcadero at Sansome', 'Washington at Kearney'),\n",
              " ('Washington at Kearney', 'Market at Sansome')]"
            ]
          },
          "metadata": {},
          "execution_count": 39
        }
      ]
    },
    {
      "cell_type": "markdown",
      "source": [
        "## <center> ***Задание 4. Найти количество велосипедов в системе.*** </center>"
      ],
      "metadata": {
        "id": "LyDcVhPz89lj"
      }
    },
    {
      "cell_type": "code",
      "source": [
        "countOfBicycle = tripsProcessedByModel.map(lambda x: x.bike_id).distinct().count()"
      ],
      "metadata": {
        "id": "iInbPJ359fdD"
      },
      "execution_count": 40,
      "outputs": []
    },
    {
      "cell_type": "markdown",
      "source": [
        "### <center> ***Ответ на задание 4. Найти количество велосипедов в системе.*** </center>"
      ],
      "metadata": {
        "id": "eNhdlK4KVkVT"
      }
    },
    {
      "cell_type": "code",
      "source": [
        "countOfBicycle"
      ],
      "metadata": {
        "colab": {
          "base_uri": "https://localhost:8080/"
        },
        "id": "4qFMpNEeS1ca",
        "outputId": "bd053dcd-35c9-4fd6-c11c-5c8af0b790a4"
      },
      "execution_count": 41,
      "outputs": [
        {
          "output_type": "execute_result",
          "data": {
            "text/plain": [
              "700"
            ]
          },
          "metadata": {},
          "execution_count": 41
        }
      ]
    },
    {
      "cell_type": "markdown",
      "source": [
        "## <center> ***Задание 5. Найти пользователей потративших на поездки более 3 часов.*** </center>"
      ],
      "metadata": {
        "id": "lOCnS9_889cD"
      }
    },
    {
      "cell_type": "code",
      "source": [
        "threeHours = 3*60*60\n",
        "usersOfBicycle = tripsProcessedByModel.filter(lambda x: x.duration > threeHours)\\\n",
        ".map(lambda x: x.zip_code).filter(lambda x: x != \"\").distinct()"
      ],
      "metadata": {
        "id": "jh4R1_pc9moN"
      },
      "execution_count": 48,
      "outputs": []
    },
    {
      "cell_type": "markdown",
      "source": [
        "### <center> ***Ответ на задание 5. Найти пользователей потративших на поездки более 3 часов.*** </center>"
      ],
      "metadata": {
        "id": "Dwj54q3NV31s"
      }
    },
    {
      "cell_type": "code",
      "source": [
        "print('Топ-10 пользователей потративших на поездки более 3 часов = ', usersOfBicycle.take(10))"
      ],
      "metadata": {
        "colab": {
          "base_uri": "https://localhost:8080/"
        },
        "id": "wfdubYd-TIzK",
        "outputId": "2fc44a88-0d96-423c-8347-4035cb63b513"
      },
      "execution_count": 49,
      "outputs": [
        {
          "output_type": "stream",
          "name": "stdout",
          "text": [
            "Топ-10 пользователей потративших на поездки более 3 часов =  ['58553', '94301', '94039', '94133', '93726', '94123', '4517', '29200', '45322', '94080']\n"
          ]
        }
      ]
    }
  ]
}