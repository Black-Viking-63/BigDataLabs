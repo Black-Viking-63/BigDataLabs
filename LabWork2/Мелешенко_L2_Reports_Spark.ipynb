{
  "nbformat": 4,
  "nbformat_minor": 0,
  "metadata": {
    "colab": {
      "name": "Мелешенко_L2_Reports_Spark.ipynb",
      "provenance": [],
      "toc_visible": true
    },
    "kernelspec": {
      "name": "python3",
      "display_name": "Python 3"
    },
    "language_info": {
      "name": "python"
    }
  },
  "cells": [
    {
      "cell_type": "markdown",
      "source": [
        "# Лабораторная работа №2: Reports with Apache Spark.<br>Выполнил студент группы 6133-010402D Мелешенко Иван."
      ],
      "metadata": {
        "id": "V6U6v6onZOwO"
      }
    },
    {
      "cell_type": "markdown",
      "source": [
        "# Задание"
      ],
      "metadata": {
        "id": "0O2PGlq2cF8H"
      }
    },
    {
      "cell_type": "markdown",
      "source": [
        "##[Текст задания лабораторной работы](https://gitlab.com/ssau.tk.courses/big_data/-/tree/master/L2%20-%20Reports%20with%20Apache%20Spark)"
      ],
      "metadata": {
        "id": "UyPdP8j8cF4-"
      }
    },
    {
      "cell_type": "markdown",
      "source": [
        "1. Сформировать отчёт с информацией о 10 наиболее популярных языках программирования по итогам года за период с 2010 по 2020 годы. Отчёт будет отражать динамику изменения популярности языков программирования и представлять собой набор таблиц \"топ-10\" для каждого года.\n",
        "2. Получившийся отчёт сохранить в формате Apache Parquet."
      ],
      "metadata": {
        "id": "pO0UbiAbcRX8"
      }
    },
    {
      "cell_type": "markdown",
      "source": [
        "# Этап 1. Подготовка средств и данных."
      ],
      "metadata": {
        "id": "dx6sNoyuchI1"
      }
    },
    {
      "cell_type": "markdown",
      "source": [
        "## Шаг 1. Установка PySpark"
      ],
      "metadata": {
        "id": "MCtXLmL9coT9"
      }
    },
    {
      "cell_type": "markdown",
      "source": [
        "PySpark — это API Apache Spark, применяемый для распределенной обработки больших данных."
      ],
      "metadata": {
        "id": "XVQVQY-Bcq2t"
      }
    },
    {
      "cell_type": "code",
      "source": [
        "!pip install pyspark"
      ],
      "metadata": {
        "colab": {
          "base_uri": "https://localhost:8080/"
        },
        "id": "-jgydbMXcsmP",
        "outputId": "5d77d389-190f-4482-84d3-9bcf28b14a33"
      },
      "execution_count": 1,
      "outputs": [
        {
          "output_type": "stream",
          "name": "stdout",
          "text": [
            "Collecting pyspark\n",
            "  Downloading pyspark-3.2.0.tar.gz (281.3 MB)\n",
            "\u001b[K     |████████████████████████████████| 281.3 MB 39 kB/s \n",
            "\u001b[?25hCollecting py4j==0.10.9.2\n",
            "  Downloading py4j-0.10.9.2-py2.py3-none-any.whl (198 kB)\n",
            "\u001b[K     |████████████████████████████████| 198 kB 62.5 MB/s \n",
            "\u001b[?25hBuilding wheels for collected packages: pyspark\n",
            "  Building wheel for pyspark (setup.py) ... \u001b[?25l\u001b[?25hdone\n",
            "  Created wheel for pyspark: filename=pyspark-3.2.0-py2.py3-none-any.whl size=281805911 sha256=e23c5868ecbbc39f7405a5df5b0bb7c0021ab79c7b83e305e2388268de0cc67b\n",
            "  Stored in directory: /root/.cache/pip/wheels/0b/de/d2/9be5d59d7331c6c2a7c1b6d1a4f463ce107332b1ecd4e80718\n",
            "Successfully built pyspark\n",
            "Installing collected packages: py4j, pyspark\n",
            "Successfully installed py4j-0.10.9.2 pyspark-3.2.0\n"
          ]
        }
      ]
    },
    {
      "cell_type": "markdown",
      "source": [
        "## Шаг 2. Импорт необходимых библиотек."
      ],
      "metadata": {
        "id": "4FHE7V26dqp9"
      }
    },
    {
      "cell_type": "code",
      "source": [
        "import pyspark\n",
        "import os\n",
        "\n",
        "from datetime import datetime\n",
        "from pyspark.sql.functions import col\n",
        "from pyspark.sql import SparkSession\n",
        "from pyspark import SparkContext, SparkConf\n",
        "from pyspark.sql.types import StructType, StructField, StringType, DateType"
      ],
      "metadata": {
        "id": "SJruZo0NdqRl"
      },
      "execution_count": 2,
      "outputs": []
    },
    {
      "cell_type": "markdown",
      "source": [
        "## Шаг 3. Создание проекта."
      ],
      "metadata": {
        "id": "5VOMBsUmec_m"
      }
    },
    {
      "cell_type": "markdown",
      "source": [
        "### Создание точки конфигурации, установка имени проекта, и выбора подключения к кластеру\n"
      ],
      "metadata": {
        "id": "4627wt5NegMt"
      }
    },
    {
      "cell_type": "code",
      "source": [
        "os.environ['PYSPARK_SUBMIT_ARGS'] = '--packages com.databricks:spark-xml_2.12:0.13.0 pyspark-shell'\n",
        "sc = SparkSession.builder.appName(\"L2ApacheReports\").master(\"local[*]\").getOrCreate()"
      ],
      "metadata": {
        "id": "jDq0ixMgeiyV"
      },
      "execution_count": 3,
      "outputs": []
    },
    {
      "cell_type": "markdown",
      "source": [
        "### Проверка установки"
      ],
      "metadata": {
        "id": "ZISmj18BesqV"
      }
    },
    {
      "cell_type": "code",
      "source": [
        "sc"
      ],
      "metadata": {
        "colab": {
          "base_uri": "https://localhost:8080/",
          "height": 218
        },
        "id": "jqmfPkrrevGu",
        "outputId": "4f917b21-a19c-4a1f-e6fa-173e593c0be8"
      },
      "execution_count": 4,
      "outputs": [
        {
          "output_type": "execute_result",
          "data": {
            "text/html": [
              "\n",
              "            <div>\n",
              "                <p><b>SparkSession - in-memory</b></p>\n",
              "                \n",
              "        <div>\n",
              "            <p><b>SparkContext</b></p>\n",
              "\n",
              "            <p><a href=\"http://dfe8b3eee07c:4040\">Spark UI</a></p>\n",
              "\n",
              "            <dl>\n",
              "              <dt>Version</dt>\n",
              "                <dd><code>v3.2.0</code></dd>\n",
              "              <dt>Master</dt>\n",
              "                <dd><code>local[*]</code></dd>\n",
              "              <dt>AppName</dt>\n",
              "                <dd><code>L2ApacheReports</code></dd>\n",
              "            </dl>\n",
              "        </div>\n",
              "        \n",
              "            </div>\n",
              "        "
            ],
            "text/plain": [
              "<pyspark.sql.session.SparkSession at 0x7f1840258350>"
            ]
          },
          "metadata": {},
          "execution_count": 4
        }
      ]
    },
    {
      "cell_type": "markdown",
      "source": [
        "## Шаг 4. Загрузка и обработка данных"
      ],
      "metadata": {
        "id": "8itxkAvSivDD"
      }
    },
    {
      "cell_type": "markdown",
      "source": [
        "### Подключение гугл диска"
      ],
      "metadata": {
        "id": "6XngubMLkTxH"
      }
    },
    {
      "cell_type": "markdown",
      "source": [
        "Для загрузки файлов на гугл коллаб воспользуемся гугл диском, который максимально ускорит процесс загрузки."
      ],
      "metadata": {
        "id": "aeK98sJjkAGJ"
      }
    },
    {
      "cell_type": "code",
      "source": [
        "from google.colab import drive\n",
        "drive.mount('/content/drive')"
      ],
      "metadata": {
        "colab": {
          "base_uri": "https://localhost:8080/"
        },
        "id": "B_cnboHgi1lS",
        "outputId": "fb9de112-b978-47ec-a0b7-c787c4f04018"
      },
      "execution_count": 5,
      "outputs": [
        {
          "output_type": "stream",
          "name": "stdout",
          "text": [
            "Mounted at /content/drive\n"
          ]
        }
      ]
    },
    {
      "cell_type": "markdown",
      "source": [
        "### Загрузка файла с языками программирования"
      ],
      "metadata": {
        "id": "BnTAO6WhkKt_"
      }
    },
    {
      "cell_type": "code",
      "source": [
        "listProgLanguages = sc.read.csv(\"/content/drive/MyDrive/programming-languages.csv\")"
      ],
      "metadata": {
        "id": "pWrykak4j9Zo"
      },
      "execution_count": 6,
      "outputs": []
    },
    {
      "cell_type": "markdown",
      "source": [
        "### Создание списка языков программиорвания"
      ],
      "metadata": {
        "id": "gRK7Ui9ln0Tz"
      }
    },
    {
      "cell_type": "code",
      "source": [
        "languageList = [str(x[0]) for x in listProgLanguages.collect()]"
      ],
      "metadata": {
        "id": "qPf9JXoun01B"
      },
      "execution_count": 7,
      "outputs": []
    },
    {
      "cell_type": "markdown",
      "source": [
        "### Просмотр созданного списка"
      ],
      "metadata": {
        "id": "2UbawklDoi54"
      }
    },
    {
      "cell_type": "markdown",
      "source": [
        "Выведем первые 10 языков программирования"
      ],
      "metadata": {
        "id": "aoTXFUbzoz9g"
      }
    },
    {
      "cell_type": "code",
      "source": [
        "languageList[:10]"
      ],
      "metadata": {
        "colab": {
          "base_uri": "https://localhost:8080/"
        },
        "id": "7XbIIySqoogc",
        "outputId": "e3fbe724-ca22-4572-aed0-c96b195e2838"
      },
      "execution_count": 9,
      "outputs": [
        {
          "output_type": "execute_result",
          "data": {
            "text/plain": [
              "['name',\n",
              " 'A# .NET',\n",
              " 'A# (Axiom)',\n",
              " 'A-0 System',\n",
              " 'A+',\n",
              " 'A++',\n",
              " 'ABAP',\n",
              " 'ABC',\n",
              " 'ABC ALGOL',\n",
              " 'ABSET']"
            ]
          },
          "metadata": {},
          "execution_count": 9
        }
      ]
    },
    {
      "cell_type": "markdown",
      "source": [
        "### Корректировка спиская языков программирования"
      ],
      "metadata": {
        "id": "XYdus9wwo_TR"
      }
    },
    {
      "cell_type": "markdown",
      "source": [
        "Удалим первую ячейку языкового списка, поскольку она содержит заголовок файла, и не нужна."
      ],
      "metadata": {
        "id": "0eHIp64jpK5R"
      }
    },
    {
      "cell_type": "code",
      "source": [
        "languageList.pop(0)"
      ],
      "metadata": {
        "colab": {
          "base_uri": "https://localhost:8080/",
          "height": 35
        },
        "id": "qt7Ndh43pFVh",
        "outputId": "88c6ca25-7100-4faa-9e00-67aa96a0d905"
      },
      "execution_count": 10,
      "outputs": [
        {
          "output_type": "execute_result",
          "data": {
            "application/vnd.google.colaboratory.intrinsic+json": {
              "type": "string"
            },
            "text/plain": [
              "'name'"
            ]
          },
          "metadata": {},
          "execution_count": 10
        }
      ]
    },
    {
      "cell_type": "markdown",
      "source": [
        "### Просмотр списка языков программирования"
      ],
      "metadata": {
        "id": "GbhQrDkTpazx"
      }
    },
    {
      "cell_type": "code",
      "source": [
        "languageList[:10]"
      ],
      "metadata": {
        "colab": {
          "base_uri": "https://localhost:8080/"
        },
        "id": "XEN0iDhLpbOB",
        "outputId": "e5b2d18d-ca0f-4a1b-eaf8-ec5a610e8ef0"
      },
      "execution_count": 11,
      "outputs": [
        {
          "output_type": "execute_result",
          "data": {
            "text/plain": [
              "['A# .NET',\n",
              " 'A# (Axiom)',\n",
              " 'A-0 System',\n",
              " 'A+',\n",
              " 'A++',\n",
              " 'ABAP',\n",
              " 'ABC',\n",
              " 'ABC ALGOL',\n",
              " 'ABSET',\n",
              " 'ABSYS']"
            ]
          },
          "metadata": {},
          "execution_count": 11
        }
      ]
    },
    {
      "cell_type": "markdown",
      "source": [
        "### Загрузка файла с выборкой данных по использованию языков программирования"
      ],
      "metadata": {
        "id": "IQl2hWqtkXkv"
      }
    },
    {
      "cell_type": "code",
      "source": [
        "postsSampleData = sc.read.format(\"xml\").options(rowTag=\"row\").load('/content/drive/MyDrive/posts_sample.xml')"
      ],
      "metadata": {
        "id": "vkWy-pduj9Wg"
      },
      "execution_count": 12,
      "outputs": []
    },
    {
      "cell_type": "code",
      "source": [
        "postsSampleData.take(3)"
      ],
      "metadata": {
        "colab": {
          "base_uri": "https://localhost:8080/"
        },
        "id": "M5GFQd3-pqVw",
        "outputId": "61b4c71c-f8eb-4a6d-caae-cb462742c56b"
      },
      "execution_count": 18,
      "outputs": [
        {
          "output_type": "execute_result",
          "data": {
            "text/plain": [
              "[Row(_AcceptedAnswerId=7, _AnswerCount=13, _Body=\"<p>I want to use a track-bar to change a form's opacity.</p>\\n\\n<p>This is my code:</p>\\n\\n<pre><code>decimal trans = trackBar1.Value / 5000;\\nthis.Opacity = trans;\\n</code></pre>\\n\\n<p>When I build the application, it gives the following error:</p>\\n\\n<blockquote>\\n  <p>Cannot implicitly convert type <code>'decimal'</code> to <code>'double'</code></p>\\n</blockquote>\\n\\n<p>I tried using <code>trans</code> and <code>double</code> but then the control doesn't work. This code worked fine in a past VB.NET project.</p>\\n\", _ClosedDate=None, _CommentCount=2, _CommunityOwnedDate=datetime.datetime(2012, 10, 31, 16, 42, 47, 213000), _CreationDate=datetime.datetime(2008, 7, 31, 21, 42, 52, 667000), _FavoriteCount=48, _Id=4, _LastActivityDate=datetime.datetime(2019, 7, 19, 1, 39, 54, 173000), _LastEditDate=datetime.datetime(2019, 7, 19, 1, 39, 54, 173000), _LastEditorDisplayName='Rich B', _LastEditorUserId=3641067, _OwnerDisplayName=None, _OwnerUserId=8, _ParentId=None, _PostTypeId=1, _Score=630, _Tags='<c#><floating-point><type-conversion><double><decimal>', _Title='Convert Decimal to Double?', _ViewCount=42817),\n",
              " Row(_AcceptedAnswerId=31, _AnswerCount=6, _Body=\"<p>I have an absolutely positioned <code>div</code> containing several children, one of which is a relatively positioned <code>div</code>. When I use a <code>percentage-based width</code> on the child <code>div</code>, it collapses to <code>0 width</code> on IE7, but not on Firefox or Safari.</p>\\n\\n<p>If I use <code>pixel width</code>, it works. If the parent is relatively positioned, the percentage width on the child works.</p>\\n\\n<ol>\\n<li>Is there something I'm missing here?</li>\\n<li>Is there an easy fix for this besides the <code>pixel-based width</code> on the\\nchild?</li>\\n<li>Is there an area of the CSS specification that covers this?</li>\\n</ol>\\n\", _ClosedDate=None, _CommentCount=0, _CommunityOwnedDate=None, _CreationDate=datetime.datetime(2008, 7, 31, 22, 8, 8, 620000), _FavoriteCount=10, _Id=6, _LastActivityDate=datetime.datetime(2019, 7, 19, 1, 43, 4, 77000), _LastEditDate=datetime.datetime(2019, 7, 19, 1, 43, 4, 77000), _LastEditorDisplayName='Rich B', _LastEditorUserId=3641067, _OwnerDisplayName=None, _OwnerUserId=9, _ParentId=None, _PostTypeId=1, _Score=281, _Tags='<html><css><internet-explorer-7>', _Title='Percentage width child element in absolutely positioned parent on Internet Explorer 7', _ViewCount=18214),\n",
              " Row(_AcceptedAnswerId=None, _AnswerCount=None, _Body=\"<p>An explicit cast to double like this isn't necessary:</p>\\n\\n<pre><code>double trans = (double) trackBar1.Value / 5000.0;\\n</code></pre>\\n\\n<p>Identifying the constant as <code>5000.0</code> (or as <code>5000d</code>) is sufficient:</p>\\n\\n<pre><code>double trans = trackBar1.Value / 5000.0;\\ndouble trans = trackBar1.Value / 5000d;\\n</code></pre>\\n\", _ClosedDate=None, _CommentCount=0, _CommunityOwnedDate=None, _CreationDate=datetime.datetime(2008, 7, 31, 22, 17, 57, 883000), _FavoriteCount=None, _Id=7, _LastActivityDate=datetime.datetime(2017, 12, 16, 5, 6, 57, 613000), _LastEditDate=datetime.datetime(2017, 12, 16, 5, 6, 57, 613000), _LastEditorDisplayName=None, _LastEditorUserId=4020527, _OwnerDisplayName=None, _OwnerUserId=9, _ParentId=4, _PostTypeId=2, _Score=425, _Tags=None, _Title=None, _ViewCount=None)]"
            ]
          },
          "metadata": {},
          "execution_count": 18
        }
      ]
    },
    {
      "cell_type": "markdown",
      "source": [
        "# Этап 2. Описание функций для обработки текста."
      ],
      "metadata": {
        "id": "2SlThungqERq"
      }
    },
    {
      "cell_type": "markdown",
      "source": [
        "## Функция определения языка программирования"
      ],
      "metadata": {
        "id": "wN0HoqDir6bZ"
      }
    },
    {
      "cell_type": "markdown",
      "source": [
        "Функция определения языка программирования производит перевод всего текста в нижний регистр и ищет название языка программирования в каждой строке.\n",
        "\n",
        "В случае нахождения язык порграммирования создается кортеж, иначе возвращается None"
      ],
      "metadata": {
        "id": "nGzXC77_s7Gc"
      }
    },
    {
      "cell_type": "code",
      "source": [
        "def detectionProgLanguage(x):\n",
        "  tag = None\n",
        "  for language in languageList:\n",
        "    if \"<\" + language.lower() + \">\" in x._Tags.lower():\n",
        "      tag = language\n",
        "      break\n",
        "  if tag is None:\n",
        "    return None\n",
        "  return (x._Id, tag)"
      ],
      "metadata": {
        "id": "mzPaMb2dr6wh"
      },
      "execution_count": 19,
      "outputs": []
    },
    {
      "cell_type": "markdown",
      "source": [
        "## Функция проверки даты"
      ],
      "metadata": {
        "id": "moKmEMV0r7Hb"
      }
    },
    {
      "cell_type": "markdown",
      "source": [
        "Данная функция производит фильтрацию информации по датам, так как необходима информация с 2010 по 2020 год."
      ],
      "metadata": {
        "id": "OuZw3xP1tdLj"
      }
    },
    {
      "cell_type": "code",
      "source": [
        "def detectionYear(x, year):\n",
        "  start = datetime(year=year, month=1, day=1)\n",
        "  end = datetime(year=year, month=12, day=31)\n",
        "  CreationDate = x._CreationDate\n",
        "  return CreationDate >= start and CreationDate <= end"
      ],
      "metadata": {
        "id": "CRgg5n6Ar7YR"
      },
      "execution_count": 20,
      "outputs": []
    },
    {
      "cell_type": "markdown",
      "source": [
        "# Этап 3. Выполнение заданий"
      ],
      "metadata": {
        "id": "jmwAM9iIvDgl"
      }
    },
    {
      "cell_type": "markdown",
      "source": [
        "## Задание 1. Формирование отчетов"
      ],
      "metadata": {
        "id": "tU5h2bu3vx26"
      }
    },
    {
      "cell_type": "code",
      "source": [
        "selectionProgLanguage = {}\n",
        "for year in range(2010, 2020):\n",
        "  selectionProgLanguage[year] = postsSampleData.rdd\\\n",
        "      .filter(lambda x: x._Tags is not None and detectionYear(x, year))\\\n",
        "      .map(detectionProgLanguage)\\\n",
        "      .filter(lambda x: x is not None)\\\n",
        "      .keyBy(lambda x: x[1])\\\n",
        "      .aggregateByKey(\n",
        "          0,\n",
        "          lambda x, y: x + 1,\n",
        "          lambda x1, x2: x1 + x2,\n",
        "      )\\\n",
        "      .sortBy(lambda x: x[1], ascending=False)\\\n",
        "      .toDF()\n",
        "  selectionProgLanguage[year] = selectionProgLanguage[year].select(col(\"_1\").alias(\"Programming_language\"), \n",
        "                                                 col(\"_2\").alias(f\"Number_of_mentions_in_{year}\")).limit(10)"
      ],
      "metadata": {
        "id": "HtggMqaVwCYM"
      },
      "execution_count": 21,
      "outputs": []
    },
    {
      "cell_type": "markdown",
      "source": [
        "## <center> ***Ответ на задание 1: Вывод отчетов***</center>"
      ],
      "metadata": {
        "id": "8JX2Tsfvv7yb"
      }
    },
    {
      "cell_type": "code",
      "source": [
        "for year in range(2010, 2020):\n",
        "  selectionProgLanguage[year].show()"
      ],
      "metadata": {
        "colab": {
          "base_uri": "https://localhost:8080/"
        },
        "id": "EFag5xnrwEYD",
        "outputId": "a32790da-0e0c-494a-ec76-fe88ff6170a5"
      },
      "execution_count": 23,
      "outputs": [
        {
          "output_type": "stream",
          "name": "stdout",
          "text": [
            "+--------------------+--------------------------+\n",
            "|Programming_language|Number_of_mentions_in_2010|\n",
            "+--------------------+--------------------------+\n",
            "|                Java|                        52|\n",
            "|          JavaScript|                        44|\n",
            "|                 PHP|                        42|\n",
            "|              Python|                        25|\n",
            "|         Objective-C|                        22|\n",
            "|                   C|                        20|\n",
            "|                Ruby|                        11|\n",
            "|              Delphi|                         7|\n",
            "|                   R|                         3|\n",
            "|                Bash|                         3|\n",
            "+--------------------+--------------------------+\n",
            "\n",
            "+--------------------+--------------------------+\n",
            "|Programming_language|Number_of_mentions_in_2011|\n",
            "+--------------------+--------------------------+\n",
            "|                 PHP|                        97|\n",
            "|                Java|                        92|\n",
            "|          JavaScript|                        82|\n",
            "|              Python|                        35|\n",
            "|         Objective-C|                        33|\n",
            "|                   C|                        24|\n",
            "|                Ruby|                        17|\n",
            "|              Delphi|                         8|\n",
            "|                Perl|                         8|\n",
            "|                Bash|                         7|\n",
            "+--------------------+--------------------------+\n",
            "\n",
            "+--------------------+--------------------------+\n",
            "|Programming_language|Number_of_mentions_in_2012|\n",
            "+--------------------+--------------------------+\n",
            "|                 PHP|                       136|\n",
            "|          JavaScript|                       129|\n",
            "|                Java|                       124|\n",
            "|              Python|                        65|\n",
            "|         Objective-C|                        45|\n",
            "|                   C|                        27|\n",
            "|                Ruby|                        25|\n",
            "|                Bash|                         9|\n",
            "|                   R|                         9|\n",
            "|              MATLAB|                         6|\n",
            "+--------------------+--------------------------+\n",
            "\n",
            "+--------------------+--------------------------+\n",
            "|Programming_language|Number_of_mentions_in_2013|\n",
            "+--------------------+--------------------------+\n",
            "|          JavaScript|                       196|\n",
            "|                Java|                       191|\n",
            "|                 PHP|                       173|\n",
            "|              Python|                        87|\n",
            "|         Objective-C|                        40|\n",
            "|                   C|                        36|\n",
            "|                Ruby|                        30|\n",
            "|                   R|                        25|\n",
            "|                Bash|                        11|\n",
            "|               Scala|                        10|\n",
            "+--------------------+--------------------------+\n",
            "\n",
            "+--------------------+--------------------------+\n",
            "|Programming_language|Number_of_mentions_in_2014|\n",
            "+--------------------+--------------------------+\n",
            "|          JavaScript|                       235|\n",
            "|                Java|                       228|\n",
            "|                 PHP|                       154|\n",
            "|              Python|                       103|\n",
            "|                   C|                        52|\n",
            "|         Objective-C|                        49|\n",
            "|                   R|                        28|\n",
            "|                Ruby|                        20|\n",
            "|              MATLAB|                        16|\n",
            "|                Bash|                        13|\n",
            "+--------------------+--------------------------+\n",
            "\n",
            "+--------------------+--------------------------+\n",
            "|Programming_language|Number_of_mentions_in_2015|\n",
            "+--------------------+--------------------------+\n",
            "|          JavaScript|                       270|\n",
            "|                Java|                       208|\n",
            "|                 PHP|                       147|\n",
            "|              Python|                       119|\n",
            "|                   R|                        43|\n",
            "|                   C|                        38|\n",
            "|         Objective-C|                        30|\n",
            "|                Ruby|                        20|\n",
            "|              MATLAB|                        16|\n",
            "|               Scala|                        13|\n",
            "+--------------------+--------------------------+\n",
            "\n",
            "+--------------------+--------------------------+\n",
            "|Programming_language|Number_of_mentions_in_2016|\n",
            "+--------------------+--------------------------+\n",
            "|          JavaScript|                       271|\n",
            "|                Java|                       178|\n",
            "|              Python|                       140|\n",
            "|                 PHP|                       126|\n",
            "|                   R|                        50|\n",
            "|                   C|                        32|\n",
            "|                Ruby|                        21|\n",
            "|                Bash|                        16|\n",
            "|               Scala|                        16|\n",
            "|              MATLAB|                        15|\n",
            "+--------------------+--------------------------+\n",
            "\n",
            "+--------------------+--------------------------+\n",
            "|Programming_language|Number_of_mentions_in_2017|\n",
            "+--------------------+--------------------------+\n",
            "|          JavaScript|                       244|\n",
            "|                Java|                       204|\n",
            "|              Python|                       185|\n",
            "|                 PHP|                       122|\n",
            "|                   R|                        53|\n",
            "|                   C|                        24|\n",
            "|         Objective-C|                        19|\n",
            "|                Ruby|                        16|\n",
            "|          TypeScript|                        14|\n",
            "|          PowerShell|                        14|\n",
            "+--------------------+--------------------------+\n",
            "\n",
            "+--------------------+--------------------------+\n",
            "|Programming_language|Number_of_mentions_in_2018|\n",
            "+--------------------+--------------------------+\n",
            "|              Python|                       214|\n",
            "|          JavaScript|                       194|\n",
            "|                Java|                       145|\n",
            "|                 PHP|                        99|\n",
            "|                   R|                        63|\n",
            "|                   C|                        24|\n",
            "|               Scala|                        22|\n",
            "|          TypeScript|                        21|\n",
            "|          PowerShell|                        13|\n",
            "|                Bash|                        12|\n",
            "+--------------------+--------------------------+\n",
            "\n",
            "+--------------------+--------------------------+\n",
            "|Programming_language|Number_of_mentions_in_2019|\n",
            "+--------------------+--------------------------+\n",
            "|              Python|                       162|\n",
            "|          JavaScript|                       131|\n",
            "|                Java|                        95|\n",
            "|                 PHP|                        59|\n",
            "|                   R|                        36|\n",
            "|                   C|                        14|\n",
            "|                  Go|                         9|\n",
            "|              MATLAB|                         9|\n",
            "|                Dart|                         9|\n",
            "|                Bash|                         8|\n",
            "+--------------------+--------------------------+\n",
            "\n"
          ]
        }
      ]
    },
    {
      "cell_type": "markdown",
      "source": [
        "## Задание 2. Сохрание отчетов"
      ],
      "metadata": {
        "id": "o4rAudrcxk8G"
      }
    },
    {
      "cell_type": "code",
      "source": [
        "for year in selectionProgLanguage.keys():\n",
        "    selectionProgLanguage[year].write.format(\"parquet\").save(f\"/content/drive/MyDrive/top_lang/top_{year}\")"
      ],
      "metadata": {
        "id": "QRrWgsrUxtRF"
      },
      "execution_count": 29,
      "outputs": []
    }
  ]
}